{
 "cells": [
  {
   "cell_type": "code",
   "execution_count": null,
   "id": "e2da7d46",
   "metadata": {},
   "outputs": [],
   "source": [
    "\n",
    "\n",
    "from langchain.schema import Document\n",
    "from langchain_openai import OpenAIEmbeddings\n",
    "from langchain_community.vectorstores import Chroma\n",
    "\n",
    "my_openai_embedding_function =OpenAIEmbeddings()\n",
    "\n",
    "dulieu_cuatoi = [\n",
    "    Document(page_content=\"Tôi là một người yêu thích lập trình.\", metadata={\"source\": \"1\"}),\n",
    "    Document(page_content=\"Tôi thích học hỏi và khám phá những điều mới mẻ.\", metadata={\"source\": \"2\"}),\n",
    "    Document(page_content=\"Tôi thích đọc sách và xem phim.\", metadata={\"source\": \"3\"}),\n",
    "    Document(page_content=\"Tôi thích du lịch và khám phá những nền văn hóa khác nhau.\", metadata={\"source\": \"4\"}),\n",
    "    Document(page_content=\"Tôi thích nấu ăn và thử nghiệm với các công thức mới.\", metadata={\"source\": \"5\"}),\n",
    "]\n",
    "\n",
    "# Tạo vectorstore từ dữ liệu\n",
    "vectorstore = Chroma.from_documents(\n",
    "    documents=dulieu_cuatoi,\n",
    "    embedding=my_openai_embedding_function,\n",
    "    persist_directory=\"dulieu_cuatoi_vectorstore\",\n",
    ")\n",
    "\n",
    "# persist_directory\n",
    "# Ý nghĩa: Thư mục nơi vectorstore sẽ được lưu trữ trên đĩa.\n",
    "\n",
    "# Loại dữ liệu: str (chuỗi ký tự).\n",
    "\n",
    "# Vai trò:\n",
    "\n",
    "# Nếu bạn chỉ định một thư mục, vectorstore sẽ được lưu trữ ở đó và có thể được tải lại sau này.\n",
    "# Nếu không chỉ định, vectorstore sẽ chỉ tồn tại trong bộ nhớ (RAM) và sẽ bị mất khi chương trình kết thúc."
   ]
  },
  {
   "cell_type": "code",
   "execution_count": 2,
   "id": "fd651c27",
   "metadata": {},
   "outputs": [],
   "source": [
    "\n",
    "\n",
    "from langchain_groq import ChatGroq \n",
    "from langchain_community.embeddings import HuggingFaceEmbeddings\n",
    "from langchain.schema import Document\n",
    "from langchain_community.vectorstores import Chroma\n",
    "from langchain.chains import RetrievalQA\n",
    "\n",
    "# %pip install torch transformers --upgrade\n",
    "\n",
    "# import os\n",
    "# os.environ[\"TORCH_INDUCTOR\"] = \"0\"\n",
    "\n",
    "# # Ensure the environment variable is set before importing PyTorch-related modules\n",
    "# import torch\n",
    "\n",
    "\n",
    "# Khởi tạo Embedding miễn phí\n",
    "embedding = HuggingFaceEmbeddings(model_name=\"sentence-transformers/all-MiniLM-L6-v2\")\n",
    "\n",
    "# Dữ liệu\n",
    "docs = [\n",
    "    Document(\n",
    "        page_content=\"\"\"\n",
    "        Ngày xưa, có một người tiều phu nghèo tên là Tấm. Mồ côi từ nhỏ, Tấm bị mẹ kế và cô em Cám đối xử tàn nhẫn. \n",
    "        Một ngày nọ, nhờ sự giúp đỡ của Bụt, Tấm tìm lại được niềm vui và trở thành hoàng hậu. Dù trải qua nhiều lần bị hãm hại và hóa thân thành chim vàng anh, cây xoan đào, khung cửi..., \n",
    "        cuối cùng Tấm vẫn trở về làm người và sống hạnh phúc bên nhà vua. Câu chuyện “Tấm Cám” thể hiện sự chiến thắng của cái thiện trước cái ác.\n",
    "        \"\"\",\n",
    "        metadata={\"source\": \"1\"}\n",
    "    ),\n",
    "    Document(\n",
    "        page_content=\"\"\"\n",
    "        Chuyện kể rằng có một chàng trai nghèo tên là Thạch Sanh sống một mình trong rừng. Với lòng dũng cảm và sức mạnh phi thường, \n",
    "        Thạch Sanh đã giết chết chằn tinh, cứu công chúa và đánh bại quân xâm lược. Dù nhiều lần bị Lý Thông lừa gạt, nhưng chàng vẫn giữ lòng vị tha. \n",
    "        Cuối cùng, chàng được minh oan và trở thành phò mã. Truyện Thạch Sanh dạy con người phải sống nhân hậu và không ngại khó khăn.\n",
    "        \"\"\",\n",
    "        metadata={\"source\": \"2\"}\n",
    "    ),\n",
    "    Document(\n",
    "        page_content=\"\"\"\n",
    "        Sự tích Trầu Cau kể về hai anh em sinh đôi là Tân và Lang. Sau một hiểu lầm, Lang bỏ nhà đi, chết bên bờ suối, hóa thành tảng đá. \n",
    "        Người anh buồn bã, chết bên cạnh và biến thành cây cau. Vợ của người anh sau đó tìm đến và cũng chết, hóa thành cây trầu. \n",
    "        Câu chuyện giải thích nguồn gốc của tục ăn trầu và tượng trưng cho tình cảm thủy chung, sâu sắc của con người.\n",
    "        \"\"\",\n",
    "        metadata={\"source\": \"3\"}\n",
    "    ),\n",
    "    Document(\n",
    "        page_content=\"\"\"\n",
    "        Một câu chuyện dân gian nổi tiếng của Nhật Bản là “Momotaro – Cậu bé quả đào”. Một ngày, một cặp vợ chồng già nhặt được một quả đào trôi trên sông. \n",
    "        Bên trong là một bé trai họ đặt tên là Momotaro. Khi lớn lên, Momotaro lên đường đánh bại lũ yêu quái đang quấy phá vùng đất, \n",
    "        cùng sự giúp sức của chú chó, khỉ và chim trĩ. Câu chuyện thể hiện tinh thần dũng cảm, đoàn kết và lòng hiếu thảo.\n",
    "        \"\"\",\n",
    "        metadata={\"source\": \"4\"}\n",
    "    ),\n",
    "    Document(\n",
    "        page_content=\"\"\"\n",
    "        Truyện cổ Nhật “Urashima Tarō” kể về một ngư dân tốt bụng cứu một con rùa bị bắt nạt. Rùa đưa anh đến cung điện dưới biển của Long Nữ. \n",
    "        Ở đó, thời gian trôi rất chậm. Sau khi trở về đất liền, Urashima phát hiện hàng trăm năm đã trôi qua. \n",
    "        Khi anh mở chiếc hộp Long Nữ tặng, anh lập tức biến thành ông lão. Truyện truyền tải thông điệp về lòng nhân ái và hậu quả của việc không nghe lời khuyên.\n",
    "        \"\"\",\n",
    "        metadata={\"source\": \"5\"}\n",
    "    ),\n",
    "]\n",
    "\n",
    "\n",
    "# Tạo vectorstore\n",
    "vectorstore_cua_hung = Chroma.from_documents(\n",
    "    documents=docs,\n",
    "    embedding=embedding\n",
    ")\n",
    "\n",
    "# persist_directory\n",
    "# Ý nghĩa: Thư mục nơi vectorstore sẽ được lưu trữ trên đĩa.\n",
    "\n",
    "# Loại dữ liệu: str (chuỗi ký tự).\n",
    "\n",
    "# Vai trò:\n",
    "\n",
    "# Nếu bạn chỉ định một thư mục, vectorstore sẽ được lưu trữ ở đó và có thể được tải lại sau này.\n",
    "# Nếu không chỉ định, vectorstore sẽ chỉ tồn tại trong bộ nhớ (RAM) và sẽ bị mất khi chương trình kết thúc."
   ]
  },
  {
   "cell_type": "code",
   "execution_count": 3,
   "id": "a6c3366d",
   "metadata": {},
   "outputs": [
    {
     "name": "stdout",
     "output_type": "stream",
     "text": [
      "[Document(metadata={'source': '2'}, page_content='\\n        Chuyện kể rằng có một chàng trai nghèo tên là Thạch Sanh sống một mình trong rừng. Với lòng dũng cảm và sức mạnh phi thường, \\n        Thạch Sanh đã giết chết chằn tinh, cứu công chúa và đánh bại quân xâm lược. Dù nhiều lần bị Lý Thông lừa gạt, nhưng chàng vẫn giữ lòng vị tha. \\n        Cuối cùng, chàng được minh oan và trở thành phò mã. Truyện Thạch Sanh dạy con người phải sống nhân hậu và không ngại khó khăn.\\n        '), Document(metadata={'source': '3'}, page_content='\\n        Sự tích Trầu Cau kể về hai anh em sinh đôi là Tân và Lang. Sau một hiểu lầm, Lang bỏ nhà đi, chết bên bờ suối, hóa thành tảng đá. \\n        Người anh buồn bã, chết bên cạnh và biến thành cây cau. Vợ của người anh sau đó tìm đến và cũng chết, hóa thành cây trầu. \\n        Câu chuyện giải thích nguồn gốc của tục ăn trầu và tượng trưng cho tình cảm thủy chung, sâu sắc của con người.\\n        '), Document(metadata={'source': '4'}, page_content='\\n        Một câu chuyện dân gian nổi tiếng của Nhật Bản là “Momotaro – Cậu bé quả đào”. Một ngày, một cặp vợ chồng già nhặt được một quả đào trôi trên sông. \\n        Bên trong là một bé trai họ đặt tên là Momotaro. Khi lớn lên, Momotaro lên đường đánh bại lũ yêu quái đang quấy phá vùng đất, \\n        cùng sự giúp sức của chú chó, khỉ và chim trĩ. Câu chuyện thể hiện tinh thần dũng cảm, đoàn kết và lòng hiếu thảo.\\n        '), Document(metadata={'source': '5'}, page_content='\\n        Truyện cổ Nhật “Urashima Tarō” kể về một ngư dân tốt bụng cứu một con rùa bị bắt nạt. Rùa đưa anh đến cung điện dưới biển của Long Nữ. \\n        Ở đó, thời gian trôi rất chậm. Sau khi trở về đất liền, Urashima phát hiện hàng trăm năm đã trôi qua. \\n        Khi anh mở chiếc hộp Long Nữ tặng, anh lập tức biến thành ông lão. Truyện truyền tải thông điệp về lòng nhân ái và hậu quả của việc không nghe lời khuyên.\\n        ')]\n"
     ]
    }
   ],
   "source": [
    "retriever = vectorstore_cua_hung.as_retriever(search_type = \"mmr\", kwargs = {\"k\": 3})\n",
    "response = retriever.invoke(\"thạch sanh là ai?.\")\n",
    "print(response)\n",
    "\n",
    "# Phương thức invoke không phải là phương thức mặc định của retriever. Thay vào đó, bạn \n",
    "# nên sử dụng retriever.get_relevant_documents() để lấy các tài liệu liên quan.\n",
    "# retriever chỉ trả về các tài liệu liên quan, không trực tiếp trả lời câu hỏi."
   ]
  },
  {
   "cell_type": "code",
   "execution_count": 3,
   "id": "80b26ca2",
   "metadata": {},
   "outputs": [
    {
     "name": "stdout",
     "output_type": "stream",
     "text": [
      "\n",
      "        Một câu chuyện dân gian nổi tiếng của Nhật Bản là “Momotaro – Cậu bé quả đào”. Một ngày, một cặp vợ chồng già nhặt được một quả đào trôi trên sông. \n",
      "        Bên trong là một bé trai họ đặt tên là Momotaro. Khi lớn lên, Momotaro lên đường đánh bại lũ yêu quái đang quấy phá vùng đất, \n",
      "        cùng sự giúp sức của chú chó, khỉ và chim trĩ. Câu chuyện thể hiện tinh thần dũng cảm, đoàn kết và lòng hiếu thảo.\n",
      "        \n",
      "\n",
      "        Truyện cổ Nhật “Urashima Tarō” kể về một ngư dân tốt bụng cứu một con rùa bị bắt nạt. Rùa đưa anh đến cung điện dưới biển của Long Nữ. \n",
      "        Ở đó, thời gian trôi rất chậm. Sau khi trở về đất liền, Urashima phát hiện hàng trăm năm đã trôi qua. \n",
      "        Khi anh mở chiếc hộp Long Nữ tặng, anh lập tức biến thành ông lão. Truyện truyền tải thông điệp về lòng nhân ái và hậu quả của việc không nghe lời khuyên.\n",
      "        \n",
      "\n",
      "        Ngày xưa, có một người tiều phu nghèo tên là Tấm. Mồ côi từ nhỏ, Tấm bị mẹ kế và cô em Cám đối xử tàn nhẫn. \n",
      "        Một ngày nọ, nhờ sự giúp đỡ của Bụt, Tấm tìm lại được niềm vui và trở thành hoàng hậu. Dù trải qua nhiều lần bị hãm hại và hóa thân thành chim vàng anh, cây xoan đào, khung cửi..., \n",
      "        cuối cùng Tấm vẫn trở về làm người và sống hạnh phúc bên nhà vua. Câu chuyện “Tấm Cám” thể hiện sự chiến thắng của cái thiện trước cái ác.\n",
      "        \n",
      "\n",
      "        Sự tích Trầu Cau kể về hai anh em sinh đôi là Tân và Lang. Sau một hiểu lầm, Lang bỏ nhà đi, chết bên bờ suối, hóa thành tảng đá. \n",
      "        Người anh buồn bã, chết bên cạnh và biến thành cây cau. Vợ của người anh sau đó tìm đến và cũng chết, hóa thành cây trầu. \n",
      "        Câu chuyện giải thích nguồn gốc của tục ăn trầu và tượng trưng cho tình cảm thủy chung, sâu sắc của con người.\n",
      "        \n"
     ]
    },
    {
     "name": "stderr",
     "output_type": "stream",
     "text": [
      "C:\\Users\\hungm\\AppData\\Local\\Temp\\ipykernel_16916\\1165905827.py:1: LangChainDeprecationWarning: The method `BaseRetriever.get_relevant_documents` was deprecated in langchain-core 0.1.46 and will be removed in 1.0. Use :meth:`~invoke` instead.\n",
      "  relevant_docs = retriever.get_relevant_documents(\"nhân vật người nhật bản?\")\n"
     ]
    }
   ],
   "source": [
    "relevant_docs = retriever.get_relevant_documents(\"nhân vật người nhật bản?\")\n",
    "for doc in relevant_docs:\n",
    "    print(doc.page_content)"
   ]
  },
  {
   "cell_type": "code",
   "execution_count": 4,
   "id": "a31fdddb",
   "metadata": {},
   "outputs": [],
   "source": [
    "from langchain_core.prompts import ChatPromptTemplate\n",
    "\n",
    "template = \"\"\" \n",
    "Answer the question based only on the following context: {context}\n",
    "Question: {question}\n",
    "\"\"\"\n",
    "\n",
    "prompt = ChatPromptTemplate.from_template(template)"
   ]
  },
  {
   "cell_type": "code",
   "execution_count": 6,
   "id": "dbcb6c41",
   "metadata": {},
   "outputs": [
    {
     "data": {
      "text/plain": [
       "'Theo câu chuyện dân gian \"Momotaro - Cậu bé quả đào\", Momotaro được giúp đỡ bởi:\\n\\n- Chú chó\\n- Khỉ\\n- Chim trĩ\\n\\nĐây là những người bạn trung thành và dũng cảm đã hỗ trợ Momotaro trong cuộc chiến chống lại yêu quái.'"
      ]
     },
     "execution_count": 6,
     "metadata": {},
     "output_type": "execute_result"
    }
   ],
   "source": [
    "from langchain_core.output_parsers import StrOutputParser\n",
    "from langchain_openai import ChatOpenAI\n",
    "from langchain_groq import ChatGroq \n",
    "from dotenv import load_dotenv\n",
    "load_dotenv()\n",
    "\n",
    "llm = ChatGroq(model=\"llama-3.1-8b-instant\")\n",
    "\n",
    "def format_docs(dulieu_cuatoi): \n",
    "    return \"\\n\\n\".join(doc.page_content for doc in dulieu_cuatoi)\n",
    "\n",
    "qa_chain = (\n",
    "    {\n",
    "        \"context\": lambda x: format_docs(retriever.invoke(x)), \n",
    "        \"question\": lambda x: x\n",
    "    }\n",
    "    | prompt \n",
    "    | llm \n",
    "    | StrOutputParser()\n",
    ")\n",
    "\n",
    "qa_chain.invoke(\"ai giúp momotaro đánh bại yêu quái?\")"
   ]
  }
 ],
 "metadata": {
  "kernelspec": {
   "display_name": "hung-venv",
   "language": "python",
   "name": "python3"
  },
  "language_info": {
   "codemirror_mode": {
    "name": "ipython",
    "version": 3
   },
   "file_extension": ".py",
   "mimetype": "text/x-python",
   "name": "python",
   "nbconvert_exporter": "python",
   "pygments_lexer": "ipython3",
   "version": "3.13.2"
  }
 },
 "nbformat": 4,
 "nbformat_minor": 5
}
